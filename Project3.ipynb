{
 "cells": [
  {
   "cell_type": "markdown",
   "metadata": {},
   "source": [
    "Question 1: \n",
    "Compute the sparsity of the movie rating dataset, where sparsity is defined by equation:\n",
    "Sparsity = Total number of available ratings/Total number of possible ratings"
   ]
  },
  {
   "cell_type": "code",
   "execution_count": 1,
   "metadata": {
    "scrolled": true
   },
   "outputs": [
    {
     "name": "stdout",
     "output_type": "stream",
     "text": [
      "Sparsity:  0.016999683055613623\n"
     ]
    }
   ],
   "source": [
    "import numpy as np\n",
    "import pandas as pd\n",
    "from surprise import Reader, Dataset\n",
    "\n",
    "ratings = pd.read_csv('ml-latest-small/ratings.csv')\n",
    "movie = pd.read_csv('ml-latest-small/movies.csv')\n",
    "df = pd.DataFrame({'itemID': list(ratings.movieId), 'userID': list(ratings.userId), 'rating': list(ratings.rating)})\n",
    "\n",
    "reader = Reader(rating_scale=(0.5, 5.0))\n",
    "data = Dataset.load_from_df(df[['userID', 'itemID', 'rating']], reader)\n",
    "\n",
    "#Question 1\n",
    "num_movies = len(set(ratings['movieId']))\n",
    "num_users = len(set(ratings['userId']))\n",
    "sparsity = len(ratings) / (num_movies * num_users)\n",
    "\n",
    "print('Sparsity: ', sparsity)"
   ]
  },
  {
   "cell_type": "markdown",
   "metadata": {},
   "source": [
    "Question 2: Plot a histogram showing the frequency of the rating values. To be specific, bin the rating values into intervals of width 0.5 and use the binned rating values as the horizontal axis. Count the number of entries in the ratings matrix R with rating values in the binned intervals and use this count as the vertical axis. Briefly comment on the shape of the histogram"
   ]
  },
  {
   "cell_type": "code",
   "execution_count": 2,
   "metadata": {},
   "outputs": [
    {
     "name": "stdout",
     "output_type": "stream",
     "text": [
      "(610, 9724)\n"
     ]
    }
   ],
   "source": [
    "#Building R matrix\n",
    "# extract key information\n",
    "users = ratings['userId'].values\n",
    "movies = ratings['movieId'].values\n",
    "ratings = ratings['rating'].values\n",
    "movie_set = set(movies)\n",
    "user_set = set(users)\n",
    "\n",
    "movieId_map_col = {} # key is the movieId, value is column index\n",
    "def create_R(users, movies, ratings):\n",
    "    user_num = len(user_set)\n",
    "    movie_num = len(movie_set)\n",
    "\n",
    "    for i in range(movie_num):\n",
    "        movieId_map_col[list(movie_set)[i]] = i\n",
    "        \n",
    "    matrix_R = np.zeros((user_num, movie_num),dtype = float)\n",
    "    for i in range(len(users)):\n",
    "        matrix_R[users[i]-1][movieId_map_col[movies[i]]] = ratings[i]\n",
    "    return matrix_R\n",
    "\n",
    "matrix_R = create_R(users, movies, ratings)\n",
    "print(matrix_R.shape)"
   ]
  },
  {
   "cell_type": "code",
   "execution_count": 6,
   "metadata": {},
   "outputs": [
    {
     "data": {
      "image/png": "[encoded data removed]",
      "text/plain": [
       "<Figure size 432x288 with 1 Axes>"
      ]
     },
     "metadata": {
      "needs_background": "light"
     },
     "output_type": "display_data"
    }
   ],
   "source": [
    "import matplotlib.pyplot as plt\n",
    "\n",
    "plt.hist(ratings, bins = [0.5,1,1.5,2,2.5,3,3.5,4,4.5,5], color = '#58CCF2')\n",
    "plt.title(\"The Number of Each Rating Score\")\n",
    "plt.ylabel(\"Occurence of Rating Score\")\n",
    "\n",
    "plt.show()"
   ]
  },
  {
   "cell_type": "markdown",
   "metadata": {},
   "source": [
    "Question 3: Plot the distribution of the number of ratings received among movies. To be specific, the X-axis should be the movie index ordered by decreasing frequency and the Y -axis should be the number of ratings the movie has received. For example, the movie that has the largest number of ratings has\n",
    "index 1; ties can broken in any way. A monotonically decreasing curve instead of a histogram is expected."
   ]
  },
  {
   "cell_type": "code",
   "execution_count": null,
   "metadata": {},
   "outputs": [],
   "source": []
  }
 ],
 "metadata": {
  "kernelspec": {
   "display_name": "Python 3",
   "language": "python",
   "name": "python3"
  },
  "language_info": {
   "codemirror_mode": {
    "name": "ipython",
    "version": 3
   },
   "file_extension": ".py",
   "mimetype": "text/x-python",
   "name": "python",
   "nbconvert_exporter": "python",
   "pygments_lexer": "ipython3",
   "version": "3.7.1"
  }
 },
 "nbformat": 4,
 "nbformat_minor": 2
}
